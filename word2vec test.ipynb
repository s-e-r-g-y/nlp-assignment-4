{
 "cells": [
  {
   "cell_type": "code",
   "execution_count": 1,
   "metadata": {},
   "outputs": [],
   "source": [
    "from gensim.test.utils import common_texts, get_tmpfile\n",
    "from gensim.models import Word2Vec\n",
    "import gensim\n",
    "\n",
    "import numpy as np"
   ]
  },
  {
   "cell_type": "code",
   "execution_count": 3,
   "metadata": {},
   "outputs": [
    {
     "name": "stderr",
     "output_type": "stream",
     "text": [
      "/home/serhii/anaconda3/lib/python3.7/site-packages/smart_open/smart_open_lib.py:398: UserWarning: This function is deprecated, use smart_open.open instead. See the migration notes for details: https://github.com/RaRe-Technologies/smart_open/blob/master/README.rst#migrating-to-the-new-open-function\n",
      "  'See the migration notes for details: %s' % _MIGRATION_NOTES_URL\n"
     ]
    }
   ],
   "source": [
    "model = gensim.models.KeyedVectors.load_word2vec_format(\"ubercorpus.lowercased.tokenized.word2vec.300d.bz2\")"
   ]
  },
  {
   "cell_type": "code",
   "execution_count": 4,
   "metadata": {},
   "outputs": [
    {
     "data": {
      "text/plain": [
       "[('машина', 0.707642674446106),\n",
       " ('автівка', 0.6011106967926025),\n",
       " ('машинка', 0.5697958469390869),\n",
       " ('іномарка', 0.5200941562652588),\n",
       " ('камера', 0.517814040184021),\n",
       " ('установка', 0.5128892064094543),\n",
       " (\"м'ясорубка\", 0.5116710662841797),\n",
       " ('коробка', 0.5034596920013428),\n",
       " ('жінка-водій', 0.5029999017715454),\n",
       " ('техніка', 0.5018534064292908)]"
      ]
     },
     "execution_count": 4,
     "metadata": {},
     "output_type": "execute_result"
    }
   ],
   "source": [
    "model.similar_by_vector(model['пілот'] - model['літак'] + model['машина'])"
   ]
  },
  {
   "cell_type": "code",
   "execution_count": 5,
   "metadata": {},
   "outputs": [
    {
     "data": {
      "text/plain": [
       "[('знаменитість', 0.5134838819503784),\n",
       " ('жінка', 0.5047315359115601),\n",
       " ('панянка', 0.49073535203933716),\n",
       " ('дівчина', 0.4821140766143799),\n",
       " ('влада', 0.4815395474433899),\n",
       " ('матуся', 0.47620323300361633),\n",
       " ('опозиціонерка', 0.47430893778800964),\n",
       " ('сторона', 0.47012436389923096),\n",
       " ('країна', 0.4645845592021942),\n",
       " ('жінка-політик', 0.4642788767814636)]"
      ]
     },
     "execution_count": 5,
     "metadata": {},
     "output_type": "execute_result"
    }
   ],
   "source": [
    "model.similar_by_vector(model['трамп'] - model['чоловік'] + model['жінка'])"
   ]
  },
  {
   "cell_type": "code",
   "execution_count": null,
   "metadata": {},
   "outputs": [],
   "source": []
  },
  {
   "cell_type": "code",
   "execution_count": null,
   "metadata": {},
   "outputs": [],
   "source": []
  }
 ],
 "metadata": {
  "kernelspec": {
   "display_name": "Python 3",
   "language": "python",
   "name": "python3"
  },
  "language_info": {
   "codemirror_mode": {
    "name": "ipython",
    "version": 3
   },
   "file_extension": ".py",
   "mimetype": "text/x-python",
   "name": "python",
   "nbconvert_exporter": "python",
   "pygments_lexer": "ipython3",
   "version": "3.7.1"
  }
 },
 "nbformat": 4,
 "nbformat_minor": 2
}
