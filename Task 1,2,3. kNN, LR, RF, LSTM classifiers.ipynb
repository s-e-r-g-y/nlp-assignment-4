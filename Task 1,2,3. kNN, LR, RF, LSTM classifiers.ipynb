{
 "cells": [
  {
   "cell_type": "code",
   "execution_count": 1,
   "metadata": {},
   "outputs": [],
   "source": [
    "import numpy as np\n",
    "import gensim\n",
    "\n",
    "import glob\n",
    "import os\n",
    "import re\n",
    "\n",
    "import tokenize_uk\n",
    "\n",
    "path = './1551/'\n",
    "\n",
    "files = glob.glob(path + '*.txt')"
   ]
  },
  {
   "cell_type": "markdown",
   "metadata": {},
   "source": [
    "Read files and add categories and texts"
   ]
  },
  {
   "cell_type": "code",
   "execution_count": 2,
   "metadata": {},
   "outputs": [
    {
     "name": "stdout",
     "output_type": "stream",
     "text": [
      "Number of categories:  188\n"
     ]
    }
   ],
   "source": [
    "data = dict()\n",
    "\n",
    "for filename in os.listdir(path):\n",
    "    category = dict()\n",
    "    with open(path + filename, \"r\") as f:\n",
    "        lines = f.readlines()\n",
    "        \n",
    "        for line in lines:\n",
    "            if len(line) == 8 and line[0:7].isdigit():\n",
    "                current_id = line[0:7]\n",
    "                category[current_id] = ''\n",
    "                continue\n",
    "                \n",
    "            if line == '\\n':\n",
    "                continue\n",
    "                \n",
    "            category[current_id] += ('' if category[current_id] == '' else ' ') + ' '.join(line.split('\\n'))\n",
    "\n",
    "    category_name = filename.split('.')[0]\n",
    "\n",
    "    data[category_name] = category\n",
    "\n",
    "    \n",
    "print('Number of categories: ', len(data))\n"
   ]
  },
  {
   "cell_type": "code",
   "execution_count": 3,
   "metadata": {},
   "outputs": [],
   "source": [
    "def isfloat(x):\n",
    "    try:\n",
    "        a = float(x)\n",
    "    except ValueError:\n",
    "        return False\n",
    "    else:\n",
    "        return True\n",
    "\n",
    "def flaten(l):\n",
    "    return [item for sublist in l for item in sublist]\n",
    "\n",
    "def get_tokens(request):\n",
    "    tokens = flaten(flaten(tokenize_uk.tokenize_text(request.lower())))\n",
    "    result = []\n",
    "    for token in tokens:\n",
    "        if len(token) < 2 or token.isdigit() or isfloat(token):\n",
    "            continue\n",
    "        result.append(token)\n",
    "    return result"
   ]
  },
  {
   "cell_type": "code",
   "execution_count": 4,
   "metadata": {},
   "outputs": [
    {
     "name": "stderr",
     "output_type": "stream",
     "text": [
      "/home/serhii/anaconda3/lib/python3.7/site-packages/smart_open/smart_open_lib.py:398: UserWarning: This function is deprecated, use smart_open.open instead. See the migration notes for details: https://github.com/RaRe-Technologies/smart_open/blob/master/README.rst#migrating-to-the-new-open-function\n",
      "  'See the migration notes for details: %s' % _MIGRATION_NOTES_URL\n"
     ]
    }
   ],
   "source": [
    "gmodel = gensim.models.KeyedVectors.load_word2vec_format(\"ubercorpus.lowercased.tokenized.word2vec.300d.bz2\")"
   ]
  },
  {
   "cell_type": "code",
   "execution_count": 5,
   "metadata": {},
   "outputs": [],
   "source": [
    "size = 300\n",
    "def get_embeddings(tokens):\n",
    "    vec = np.zeros(size)\n",
    "    sequence = []\n",
    "    for token in tokens:\n",
    "        if token in gmodel:\n",
    "            embeding = gmodel[token]\n",
    "            vec += embeding\n",
    "            sequence.append(embeding)\n",
    "            \n",
    "    norm = np.linalg.norm(vec)\n",
    "        \n",
    "    if norm > 0:\n",
    "        res = vec / norm\n",
    "    else:\n",
    "        res = vec\n",
    "    \n",
    "    return res, sequence\n"
   ]
  },
  {
   "cell_type": "markdown",
   "metadata": {},
   "source": [
    "Build dataset"
   ]
  },
  {
   "cell_type": "code",
   "execution_count": 6,
   "metadata": {},
   "outputs": [],
   "source": [
    "train_portion = 0.7\n",
    "\n",
    "train_set = {\n",
    "    'category': [],\n",
    "    'id': [],\n",
    "    'text': [],\n",
    "    'tokens': [],\n",
    "    'embeddings': [],\n",
    "    'sequences': []\n",
    "}\n",
    "test_set = {\n",
    "    'category': [],\n",
    "    'id': [],\n",
    "    'text': [],\n",
    "    'tokens': [],\n",
    "    'embeddings': [],\n",
    "    'sequences': []\n",
    "}\n",
    "\n",
    "for category_name, category in data.items():\n",
    "    \n",
    "    num_requests = len(category)\n",
    "    num_train = num_requests * train_portion\n",
    "    \n",
    "    counter = 0\n",
    "    for r_id, request in category.items():\n",
    "        \n",
    "        tokens = get_tokens(request)\n",
    "        embeddings, sequence = get_embeddings(tokens)\n",
    "        \n",
    "        if counter < num_train:\n",
    "            train_set['category'].append(category_name)\n",
    "            train_set['id'].append(r_id)\n",
    "            train_set['text'].append(request)\n",
    "            train_set['tokens'].append(tokens)\n",
    "            train_set['embeddings'].append(embeddings)\n",
    "            train_set['sequences'].append(sequence)\n",
    "            \n",
    "        else:\n",
    "            test_set['category'].append(category_name)\n",
    "            test_set['id'].append(r_id)\n",
    "            test_set['text'].append(request)\n",
    "            test_set['tokens'].append(tokens)\n",
    "            test_set['embeddings'].append(embeddings)\n",
    "            test_set['sequences'].append(sequence)\n",
    "        \n",
    "        counter+=1"
   ]
  },
  {
   "cell_type": "code",
   "execution_count": null,
   "metadata": {},
   "outputs": [],
   "source": []
  },
  {
   "cell_type": "markdown",
   "metadata": {},
   "source": [
    "## 1. KNN"
   ]
  },
  {
   "cell_type": "code",
   "execution_count": 15,
   "metadata": {},
   "outputs": [],
   "source": [
    "from sklearn.neighbors import KNeighborsClassifier\n",
    "from sklearn.metrics import precision_score"
   ]
  },
  {
   "cell_type": "code",
   "execution_count": 8,
   "metadata": {},
   "outputs": [],
   "source": [
    "knn = KNeighborsClassifier(n_neighbors=5, weights='distance')"
   ]
  },
  {
   "cell_type": "code",
   "execution_count": 24,
   "metadata": {},
   "outputs": [
    {
     "data": {
      "text/plain": [
       "KNeighborsClassifier(algorithm='auto', leaf_size=30, metric='minkowski',\n",
       "           metric_params=None, n_jobs=1, n_neighbors=5, p=2,\n",
       "           weights='distance')"
      ]
     },
     "execution_count": 24,
     "metadata": {},
     "output_type": "execute_result"
    }
   ],
   "source": [
    "knn.fit(train_set['embeddings'], train_set['category'])"
   ]
  },
  {
   "cell_type": "code",
   "execution_count": 10,
   "metadata": {},
   "outputs": [],
   "source": [
    "prediction = knn.predict(test_set['embeddings'])"
   ]
  },
  {
   "cell_type": "code",
   "execution_count": 26,
   "metadata": {},
   "outputs": [
    {
     "data": {
      "text/plain": [
       "0.2856831282131173"
      ]
     },
     "execution_count": 26,
     "metadata": {},
     "output_type": "execute_result"
    }
   ],
   "source": [
    "precision_score(test_set['category'], prediction, average='micro')"
   ]
  },
  {
   "cell_type": "markdown",
   "metadata": {},
   "source": [
    "Baseline precision is **28.6%**. I did not check the language and just skipped unknown words. Also I normilized sum of vectors to use just euclidean distance which is equivalent to cosine similarity if we use KNeighborsClassifier."
   ]
  },
  {
   "cell_type": "markdown",
   "metadata": {},
   "source": [
    "## 2.1. Logistic Regression"
   ]
  },
  {
   "cell_type": "code",
   "execution_count": 127,
   "metadata": {},
   "outputs": [],
   "source": [
    "from sklearn.linear_model import LogisticRegression"
   ]
  },
  {
   "cell_type": "code",
   "execution_count": 128,
   "metadata": {},
   "outputs": [
    {
     "data": {
      "text/plain": [
       "LogisticRegression(C=1.0, class_weight=None, dual=False, fit_intercept=True,\n",
       "          intercept_scaling=1, max_iter=100, multi_class='multinomial',\n",
       "          n_jobs=1, penalty='l2', random_state=0, solver='lbfgs',\n",
       "          tol=0.0001, verbose=0, warm_start=False)"
      ]
     },
     "execution_count": 128,
     "metadata": {},
     "output_type": "execute_result"
    }
   ],
   "source": [
    "clf = LogisticRegression(random_state=0, solver='lbfgs', multi_class='multinomial')\n",
    "clf.fit(train_set['embeddings'], train_set['category'])"
   ]
  },
  {
   "cell_type": "code",
   "execution_count": 129,
   "metadata": {},
   "outputs": [],
   "source": [
    "lr_prediction = clf.predict(test_set['embeddings'])"
   ]
  },
  {
   "cell_type": "code",
   "execution_count": 130,
   "metadata": {},
   "outputs": [
    {
     "data": {
      "text/plain": [
       "0.40660539024770215"
      ]
     },
     "execution_count": 130,
     "metadata": {},
     "output_type": "execute_result"
    }
   ],
   "source": [
    "precision_score(test_set['category'], lr_prediction, average='micro')"
   ]
  },
  {
   "cell_type": "markdown",
   "metadata": {},
   "source": [
    "Simple Logistic Regression shows much better result **40.7%**."
   ]
  },
  {
   "cell_type": "markdown",
   "metadata": {},
   "source": [
    "## 2.1. Random Forest"
   ]
  },
  {
   "cell_type": "code",
   "execution_count": 33,
   "metadata": {},
   "outputs": [],
   "source": [
    "from numpy.core.umath_tests import inner1d\n",
    "from sklearn.ensemble import RandomForestClassifier"
   ]
  },
  {
   "cell_type": "code",
   "execution_count": 49,
   "metadata": {},
   "outputs": [
    {
     "data": {
      "text/plain": [
       "RandomForestClassifier(bootstrap=True, class_weight=None, criterion='gini',\n",
       "            max_depth=20, max_features='auto', max_leaf_nodes=None,\n",
       "            min_impurity_decrease=0.0, min_impurity_split=None,\n",
       "            min_samples_leaf=1, min_samples_split=2,\n",
       "            min_weight_fraction_leaf=0.0, n_estimators=50, n_jobs=1,\n",
       "            oob_score=False, random_state=0, verbose=0, warm_start=False)"
      ]
     },
     "execution_count": 49,
     "metadata": {},
     "output_type": "execute_result"
    }
   ],
   "source": [
    "clf_rf = RandomForestClassifier(n_estimators=50, max_depth=20, random_state=0)\n",
    "clf_rf.fit(train_set['embeddings'], train_set['category'])"
   ]
  },
  {
   "cell_type": "code",
   "execution_count": 50,
   "metadata": {},
   "outputs": [],
   "source": [
    "rf_prediction = clf_rf.predict(test_set['embeddings'])"
   ]
  },
  {
   "cell_type": "code",
   "execution_count": 51,
   "metadata": {},
   "outputs": [
    {
     "data": {
      "text/plain": [
       "0.2676429350366101"
      ]
     },
     "execution_count": 51,
     "metadata": {},
     "output_type": "execute_result"
    }
   ],
   "source": [
    "precision_score(test_set['category'], rf_prediction, average='micro')"
   ]
  },
  {
   "cell_type": "markdown",
   "metadata": {},
   "source": [
    "Random Forest shows worse result (**26.8%**)."
   ]
  },
  {
   "cell_type": "markdown",
   "metadata": {},
   "source": [
    "## 2.2. SVM"
   ]
  },
  {
   "cell_type": "code",
   "execution_count": 52,
   "metadata": {},
   "outputs": [],
   "source": [
    "from sklearn.svm import SVC"
   ]
  },
  {
   "cell_type": "code",
   "execution_count": 53,
   "metadata": {},
   "outputs": [
    {
     "data": {
      "text/plain": [
       "SVC(C=1.0, cache_size=200, class_weight=None, coef0=0.0,\n",
       "  decision_function_shape='ovr', degree=3, gamma='auto', kernel='rbf',\n",
       "  max_iter=-1, probability=False, random_state=None, shrinking=True,\n",
       "  tol=0.001, verbose=False)"
      ]
     },
     "execution_count": 53,
     "metadata": {},
     "output_type": "execute_result"
    }
   ],
   "source": [
    "clf_svm = SVC(gamma='auto')\n",
    "clf_svm.fit(train_set['embeddings'], train_set['category']) "
   ]
  },
  {
   "cell_type": "code",
   "execution_count": 54,
   "metadata": {},
   "outputs": [],
   "source": [
    "svm_prediction = clf_svm.predict(test_set['embeddings'])"
   ]
  },
  {
   "cell_type": "code",
   "execution_count": 55,
   "metadata": {},
   "outputs": [
    {
     "data": {
      "text/plain": [
       "0.16220595108272318"
      ]
     },
     "execution_count": 55,
     "metadata": {},
     "output_type": "execute_result"
    }
   ],
   "source": [
    "precision_score(test_set['category'], svm_prediction, average='micro')"
   ]
  },
  {
   "cell_type": "markdown",
   "metadata": {},
   "source": [
    "SVM showed the worst result so far (**16.2%**)."
   ]
  },
  {
   "cell_type": "markdown",
   "metadata": {},
   "source": [
    "### 3.1. LSTM"
   ]
  },
  {
   "cell_type": "code",
   "execution_count": 19,
   "metadata": {},
   "outputs": [],
   "source": [
    "from keras import Sequential\n",
    "from keras.layers import Embedding, SpatialDropout1D, LSTM, Dense\n",
    "from keras.callbacks import EarlyStopping\n",
    "from keras.preprocessing.sequence import pad_sequences\n",
    "from keras.utils.np_utils import to_categorical\n",
    "\n",
    "from sklearn.preprocessing import LabelEncoder\n",
    "from sklearn.model_selection import train_test_split\n",
    "\n",
    "from matplotlib import pyplot as plt"
   ]
  },
  {
   "cell_type": "code",
   "execution_count": null,
   "metadata": {},
   "outputs": [],
   "source": []
  },
  {
   "cell_type": "code",
   "execution_count": 40,
   "metadata": {},
   "outputs": [],
   "source": [
    "# The maximum number of words limit\n",
    "MAX_NB_WORDS = 50000\n",
    "# Max number of words in each complaint.\n",
    "MAX_SEQUENCE_LENGTH = 200\n",
    "# This is fixed.\n",
    "EMBEDDING_DIM = 300"
   ]
  },
  {
   "cell_type": "code",
   "execution_count": 9,
   "metadata": {},
   "outputs": [
    {
     "data": {
      "text/plain": [
       "(107256, 300)"
      ]
     },
     "execution_count": 9,
     "metadata": {},
     "output_type": "execute_result"
    }
   ],
   "source": [
    "X = np.array(train_set['embeddings'] + test_set['embeddings'])\n",
    "X.shape"
   ]
  },
  {
   "cell_type": "code",
   "execution_count": 13,
   "metadata": {},
   "outputs": [
    {
     "name": "stdout",
     "output_type": "stream",
     "text": [
      "(107256, 188)\n"
     ]
    }
   ],
   "source": [
    "Y = train_set['category'] + test_set['category']\n",
    "\n",
    "encoder = LabelEncoder()\n",
    "transfomed_label = encoder.fit_transform(Y)\n",
    "Y = np.array(transfomed_label)\n",
    "Y = to_categorical(Y)\n",
    "print(Y.shape)"
   ]
  },
  {
   "cell_type": "code",
   "execution_count": 14,
   "metadata": {},
   "outputs": [
    {
     "name": "stdout",
     "output_type": "stream",
     "text": [
      "(75079, 300) (75079, 188)\n",
      "(32177, 300) (32177, 188)\n"
     ]
    }
   ],
   "source": [
    "X_train, X_test, Y_train, Y_test = train_test_split(X, Y, test_size = 0.3, random_state = 42)\n",
    "print(X_train.shape,Y_train.shape)\n",
    "print(X_test.shape,Y_test.shape)"
   ]
  },
  {
   "cell_type": "code",
   "execution_count": 16,
   "metadata": {},
   "outputs": [],
   "source": [
    "model = Sequential()\n",
    "model.add(Embedding(MAX_NB_WORDS, EMBEDDING_DIM, input_length=X.shape[1]))\n",
    "model.add(SpatialDropout1D(0.2))\n",
    "model.add(LSTM(100, dropout=0.2, recurrent_dropout=0.2))\n",
    "model.add(Dense(188, activation='softmax'))\n",
    "model.compile(loss='categorical_crossentropy', optimizer='adam', metrics=['accuracy'])\n"
   ]
  },
  {
   "cell_type": "code",
   "execution_count": null,
   "metadata": {},
   "outputs": [],
   "source": []
  },
  {
   "cell_type": "code",
   "execution_count": 17,
   "metadata": {},
   "outputs": [
    {
     "name": "stdout",
     "output_type": "stream",
     "text": [
      "WARNING:tensorflow:From /home/serhii/anaconda3/lib/python3.7/site-packages/tensorflow/python/ops/math_ops.py:3066: to_int32 (from tensorflow.python.ops.math_ops) is deprecated and will be removed in a future version.\n",
      "Instructions for updating:\n",
      "Use tf.cast instead.\n",
      "Train on 67571 samples, validate on 7508 samples\n",
      "Epoch 1/5\n",
      "67571/67571 [==============================] - 827s 12ms/step - loss: 4.4552 - acc: 0.1147 - val_loss: 4.4352 - val_acc: 0.1125\n",
      "Epoch 2/5\n",
      "67571/67571 [==============================] - 828s 12ms/step - loss: 4.4374 - acc: 0.1149 - val_loss: 4.4332 - val_acc: 0.1125\n",
      "Epoch 3/5\n",
      "67571/67571 [==============================] - 876s 13ms/step - loss: 4.4354 - acc: 0.1149 - val_loss: 4.4295 - val_acc: 0.1125\n",
      "Epoch 4/5\n",
      "67571/67571 [==============================] - 925s 14ms/step - loss: 4.4350 - acc: 0.1149 - val_loss: 4.4312 - val_acc: 0.1125\n",
      "Epoch 5/5\n",
      "67571/67571 [==============================] - 921s 14ms/step - loss: 4.4343 - acc: 0.1149 - val_loss: 4.4279 - val_acc: 0.1125\n"
     ]
    }
   ],
   "source": [
    "epochs = 5\n",
    "batch_size = 64\n",
    "\n",
    "history = model.fit(\n",
    "    X_train,\n",
    "    Y_train,\n",
    "    epochs=epochs,\n",
    "    batch_size=batch_size,\n",
    "    validation_split=0.1,\n",
    "    callbacks=[EarlyStopping(monitor='val_loss', patience=3, min_delta=0.0001)]\n",
    ")"
   ]
  },
  {
   "cell_type": "code",
   "execution_count": 18,
   "metadata": {},
   "outputs": [
    {
     "name": "stdout",
     "output_type": "stream",
     "text": [
      "32177/32177 [==============================] - 103s 3ms/step\n",
      "Test set\n",
      "  Loss: 4.422\n",
      "  Accuracy: 0.118\n"
     ]
    }
   ],
   "source": [
    "accr = model.evaluate(X_test,Y_test)\n",
    "print('Test set\\n  Loss: {:0.3f}\\n  Accuracy: {:0.3f}'.format(accr[0],accr[1]))"
   ]
  },
  {
   "cell_type": "markdown",
   "metadata": {},
   "source": [
    "Base LSTM does not work well (**11.8%**). I guess it's because of using agregated embedding vector as sequence.\n",
    "\n",
    "On the next step I am going to encode words as unique numbers and check the sequence of words."
   ]
  },
  {
   "cell_type": "markdown",
   "metadata": {},
   "source": [
    "## 3.1. LSTM 2.0"
   ]
  },
  {
   "cell_type": "markdown",
   "metadata": {},
   "source": [
    "Prepare data to have a sequence of words encoded as unique number per word."
   ]
  },
  {
   "cell_type": "code",
   "execution_count": 32,
   "metadata": {},
   "outputs": [],
   "source": [
    "tokens_arr = train_set['tokens'] + test_set['tokens']"
   ]
  },
  {
   "cell_type": "code",
   "execution_count": 33,
   "metadata": {},
   "outputs": [],
   "source": [
    "set_of_tokens = set()\n",
    "\n",
    "for tokens in tokens_arr:\n",
    "    for token in tokens:\n",
    "        set_of_tokens.add(token)\n"
   ]
  },
  {
   "cell_type": "code",
   "execution_count": 34,
   "metadata": {},
   "outputs": [],
   "source": [
    "tokens_dict = dict()\n",
    "counter = 1\n",
    "for token in set_of_tokens:\n",
    "    tokens_dict[token] = counter\n",
    "    counter+=1"
   ]
  },
  {
   "cell_type": "code",
   "execution_count": 36,
   "metadata": {},
   "outputs": [],
   "source": [
    "data_set = {\n",
    "    'tokens': tokens_arr,\n",
    "    'num_sequenses': []\n",
    "}\n",
    "\n",
    "for tokens in tokens_arr:\n",
    "    num_sequense = []\n",
    "    for token in tokens:\n",
    "        num_sequense.append(tokens_dict[token])\n",
    "        \n",
    "    data_set['num_sequenses'].append(num_sequense)"
   ]
  },
  {
   "cell_type": "code",
   "execution_count": 48,
   "metadata": {},
   "outputs": [
    {
     "data": {
      "text/plain": [
       "(107256, 200)"
      ]
     },
     "execution_count": 48,
     "metadata": {},
     "output_type": "execute_result"
    }
   ],
   "source": [
    "X2 = data_set['num_sequenses']\n",
    "X2 = pad_sequences(X2, maxlen=MAX_SEQUENCE_LENGTH)\n",
    "X2.shape"
   ]
  },
  {
   "cell_type": "code",
   "execution_count": 49,
   "metadata": {},
   "outputs": [
    {
     "name": "stdout",
     "output_type": "stream",
     "text": [
      "(75079, 200) (75079, 188)\n",
      "(32177, 200) (32177, 188)\n"
     ]
    }
   ],
   "source": [
    "X_train, X_test, Y_train, Y_test = train_test_split(X2, Y, test_size = 0.30, random_state = 42)\n",
    "print(X_train.shape,Y_train.shape)\n",
    "print(X_test.shape,Y_test.shape)"
   ]
  },
  {
   "cell_type": "code",
   "execution_count": 55,
   "metadata": {},
   "outputs": [],
   "source": [
    "MAX_NB_WORDS = len(set_of_tokens) + 1\n",
    "\n",
    "model2 = Sequential()\n",
    "model2.add(Embedding(MAX_NB_WORDS, EMBEDDING_DIM, input_length=X2.shape[1]))\n",
    "model2.add(SpatialDropout1D(0.2))\n",
    "model2.add(LSTM(100, dropout=0.2, recurrent_dropout=0.2))\n",
    "model2.add(Dense(Y.shape[1], activation='softmax'))\n",
    "model2.compile(loss='categorical_crossentropy', optimizer='adam', metrics=['accuracy'])"
   ]
  },
  {
   "cell_type": "code",
   "execution_count": 56,
   "metadata": {},
   "outputs": [
    {
     "name": "stdout",
     "output_type": "stream",
     "text": [
      "Train on 67571 samples, validate on 7508 samples\n",
      "Epoch 1/5\n",
      "67571/67571 [==============================] - 1353s 20ms/step - loss: 3.6384 - acc: 0.2390 - val_loss: 2.8195 - val_acc: 0.3436\n",
      "Epoch 2/5\n",
      "67571/67571 [==============================] - 1261s 19ms/step - loss: 2.3783 - acc: 0.4195 - val_loss: 2.0419 - val_acc: 0.4859\n",
      "Epoch 3/5\n",
      "67571/67571 [==============================] - 1262s 19ms/step - loss: 1.6402 - acc: 0.5707 - val_loss: 1.6878 - val_acc: 0.5651\n",
      "Epoch 4/5\n",
      "67571/67571 [==============================] - 1265s 19ms/step - loss: 1.1456 - acc: 0.6893 - val_loss: 1.5818 - val_acc: 0.5924\n",
      "Epoch 5/5\n",
      "67571/67571 [==============================] - 1263s 19ms/step - loss: 0.7913 - acc: 0.7820 - val_loss: 1.5816 - val_acc: 0.6028\n"
     ]
    }
   ],
   "source": [
    "epochs = 5\n",
    "batch_size = 64\n",
    "\n",
    "history = model2.fit(\n",
    "    X_train,\n",
    "    Y_train,\n",
    "    epochs=epochs,\n",
    "    batch_size=batch_size,\n",
    "    validation_split=0.1,\n",
    "    callbacks=[EarlyStopping(monitor='val_loss', patience=3, min_delta=0.0001)]\n",
    ")"
   ]
  },
  {
   "cell_type": "markdown",
   "metadata": {},
   "source": [
    "I took only 5 epochs because it takes to much time to train this model on the laptop. This model shows much better results than the previous one."
   ]
  },
  {
   "cell_type": "code",
   "execution_count": 57,
   "metadata": {},
   "outputs": [
    {
     "name": "stdout",
     "output_type": "stream",
     "text": [
      "32177/32177 [==============================] - 71s 2ms/step\n",
      "Test set\n",
      "  Loss: 1.561\n",
      "  Accuracy: 0.606\n"
     ]
    }
   ],
   "source": [
    "accr = model2.evaluate(X_test,Y_test)\n",
    "print('Test set\\n  Loss: {:0.3f}\\n  Accuracy: {:0.3f}'.format(accr[0],accr[1]))"
   ]
  },
  {
   "cell_type": "markdown",
   "metadata": {},
   "source": [
    "This LSTM model shows pretty high accuracy (**60.6%**) comparing to the previous models."
   ]
  },
  {
   "cell_type": "code",
   "execution_count": 58,
   "metadata": {},
   "outputs": [
    {
     "data": {
      "image/png": "[encoded data removed]",
      "text/plain": [
       "<matplotlib.figure.Figure at 0x7f6d8f016f98>"
      ]
     },
     "metadata": {},
     "output_type": "display_data"
    }
   ],
   "source": [
    "plt.title('Loss')\n",
    "plt.plot(history.history['loss'], label='train')\n",
    "plt.plot(history.history['val_loss'], label='test')\n",
    "plt.legend()\n",
    "plt.show();"
   ]
  },
  {
   "cell_type": "code",
   "execution_count": 59,
   "metadata": {},
   "outputs": [
    {
     "data": {
      "image/png": "[encoded data removed]",
      "text/plain": [
       "<matplotlib.figure.Figure at 0x7f6d8f036ba8>"
      ]
     },
     "metadata": {},
     "output_type": "display_data"
    }
   ],
   "source": [
    "plt.title('Accuracy')\n",
    "plt.plot(history.history['acc'], label='train')\n",
    "plt.plot(history.history['val_acc'], label='test')\n",
    "plt.legend()\n",
    "plt.show();"
   ]
  },
  {
   "cell_type": "markdown",
   "metadata": {},
   "source": [
    "Perhaps the result would be better if it has more epochs for training but as we can see from the plots, test set accuracy does not increase enough after 5 epochs."
   ]
  },
  {
   "cell_type": "code",
   "execution_count": 60,
   "metadata": {},
   "outputs": [],
   "source": [
    "MAX_NB_WORDS = len(set_of_tokens) + 1\n",
    "\n",
    "model3 = Sequential()\n",
    "model3.add(Embedding(MAX_NB_WORDS, EMBEDDING_DIM, input_length=X2.shape[1]))\n",
    "model3.add(SpatialDropout1D(0.2))\n",
    "model3.add(LSTM(100, dropout=0.2, recurrent_dropout=0.2))\n",
    "model3.add(Dense(Y.shape[1], activation='softmax'))\n",
    "model3.compile(loss='categorical_crossentropy', optimizer='adam', metrics=['accuracy'])"
   ]
  },
  {
   "cell_type": "code",
   "execution_count": 61,
   "metadata": {},
   "outputs": [
    {
     "name": "stdout",
     "output_type": "stream",
     "text": [
      "Train on 67571 samples, validate on 7508 samples\n",
      "Epoch 1/15\n",
      "67571/67571 [==============================] - 1204s 18ms/step - loss: 3.5722 - acc: 0.2505 - val_loss: 2.7726 - val_acc: 0.3558\n",
      "Epoch 2/15\n",
      "67571/67571 [==============================] - 1184s 18ms/step - loss: 2.3291 - acc: 0.4269 - val_loss: 2.0294 - val_acc: 0.4871\n",
      "Epoch 3/15\n",
      "67571/67571 [==============================] - 1185s 18ms/step - loss: 1.6078 - acc: 0.5771 - val_loss: 1.6714 - val_acc: 0.5659\n",
      "Epoch 4/15\n",
      "67571/67571 [==============================] - 1187s 18ms/step - loss: 1.1042 - acc: 0.6971 - val_loss: 1.5456 - val_acc: 0.6066\n",
      "Epoch 5/15\n",
      "67571/67571 [==============================] - 1186s 18ms/step - loss: 0.7268 - acc: 0.8009 - val_loss: 1.5533 - val_acc: 0.6137\n",
      "Epoch 6/15\n",
      "67571/67571 [==============================] - 1187s 18ms/step - loss: 0.4662 - acc: 0.8771 - val_loss: 1.6606 - val_acc: 0.6067\n",
      "Epoch 7/15\n",
      "67571/67571 [==============================] - 1188s 18ms/step - loss: 0.2950 - acc: 0.9269 - val_loss: 1.7386 - val_acc: 0.6086\n"
     ]
    }
   ],
   "source": [
    "epochs = 15\n",
    "batch_size = 64\n",
    "\n",
    "history = model3.fit(\n",
    "    X_train,\n",
    "    Y_train,\n",
    "    epochs=epochs,\n",
    "    batch_size=batch_size,\n",
    "    validation_split=0.1,\n",
    "    callbacks=[EarlyStopping(monitor='val_loss', patience=3, min_delta=0.0001)]\n",
    ")"
   ]
  },
  {
   "cell_type": "code",
   "execution_count": 62,
   "metadata": {},
   "outputs": [
    {
     "name": "stdout",
     "output_type": "stream",
     "text": [
      "32177/32177 [==============================] - 62s 2ms/step\n",
      "Test set\n",
      "  Loss: 1.732\n",
      "  Accuracy: 0.604\n"
     ]
    }
   ],
   "source": [
    "accr = model3.evaluate(X_test,Y_test)\n",
    "print('Test set\\n  Loss: {:0.3f}\\n  Accuracy: {:0.3f}'.format(accr[0],accr[1]))"
   ]
  },
  {
   "cell_type": "markdown",
   "metadata": {},
   "source": [
    "Learning stopped after 7 epochs with almost the same result."
   ]
  }
 ],
 "metadata": {
  "kernelspec": {
   "display_name": "Python 3",
   "language": "python",
   "name": "python3"
  },
  "language_info": {
   "codemirror_mode": {
    "name": "ipython",
    "version": 3
   },
   "file_extension": ".py",
   "mimetype": "text/x-python",
   "name": "python",
   "nbconvert_exporter": "python",
   "pygments_lexer": "ipython3",
   "version": "3.7.1"
  }
 },
 "nbformat": 4,
 "nbformat_minor": 2
}
