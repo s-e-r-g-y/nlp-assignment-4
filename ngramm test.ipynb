{
 "cells": [
  {
   "cell_type": "code",
   "execution_count": 1,
   "metadata": {},
   "outputs": [],
   "source": [
    "import glob\n",
    "import tokenize_uk\n",
    "import os\n",
    "import re\n",
    "\n",
    "path = './1551/'\n",
    "\n",
    "files = glob.glob(path + '*.txt')"
   ]
  },
  {
   "cell_type": "code",
   "execution_count": 2,
   "metadata": {},
   "outputs": [],
   "source": [
    "f = open(files[0], \"r\").read()"
   ]
  },
  {
   "cell_type": "code",
   "execution_count": null,
   "metadata": {},
   "outputs": [],
   "source": []
  },
  {
   "cell_type": "code",
   "execution_count": 3,
   "metadata": {},
   "outputs": [],
   "source": [
    "def find_sentences(text):\n",
    "    \"\"\"\n",
    "    From TEXT select sentences that contain WORD.\n",
    "    \"\"\"\n",
    "    sentences_w_word = []\n",
    "    paragraphs = tokenize_uk.tokenize_text(text)\n",
    "    for paragraph in paragraphs:\n",
    "        for sentence in paragraph:\n",
    "            if len(sentence) == 1 and sentence[0].isdigit():\n",
    "                continue\n",
    "#             for token in sentence:\n",
    "            sentences_w_word.append(['<s>']+sentence+['</s>'])\n",
    "    return sentences_w_word"
   ]
  },
  {
   "cell_type": "code",
   "execution_count": 4,
   "metadata": {},
   "outputs": [
    {
     "name": "stdout",
     "output_type": "stream",
     "text": [
      "286887\n"
     ]
    }
   ],
   "source": [
    "data = []\n",
    "\n",
    "for filename in os.listdir(path):\n",
    "    with open(path + filename, \"r\") as f:\n",
    "        text = f.read()\n",
    "    body = text.lower()\n",
    "    data += find_sentences(body)\n",
    "\n",
    "print(len(data))"
   ]
  },
  {
   "cell_type": "code",
   "execution_count": 5,
   "metadata": {},
   "outputs": [],
   "source": [
    "for i in range(len(data)):\n",
    "    for j in range(len(data[i])):\n",
    "        if data[i][j].isdigit():\n",
    "            data[i][j] = '0'"
   ]
  },
  {
   "cell_type": "code",
   "execution_count": 6,
   "metadata": {},
   "outputs": [],
   "source": [
    "one_gramm = dict()\n",
    "two_gramm = dict()\n",
    "three_gramm = dict()\n",
    "\n",
    "for i in range(len(data)):\n",
    "    for j in range(len(data[i])):\n",
    "        key = data[i][j]\n",
    "        if key in one_gramm:\n",
    "            one_gramm[key] += 1\n",
    "        else:\n",
    "            one_gramm[key] = 1\n",
    "\n",
    "\n",
    "        if j > 0:\n",
    "            key = data[i][j-1] + '$' + data[i][j]\n",
    "            if key in two_gramm:\n",
    "                two_gramm[key] += 1\n",
    "            else:\n",
    "                two_gramm[key] = 1\n",
    "\n",
    "        if j > 1:\n",
    "            key = data[i][j-2] + '$' + data[i][j-1] + '$' + data[i][j]\n",
    "            if key in three_gramm:\n",
    "                three_gramm[key] += 1\n",
    "            else:\n",
    "                three_gramm[key] = 1"
   ]
  },
  {
   "cell_type": "code",
   "execution_count": 7,
   "metadata": {},
   "outputs": [
    {
     "data": {
      "text/plain": [
       "237120"
      ]
     },
     "execution_count": 7,
     "metadata": {},
     "output_type": "execute_result"
    }
   ],
   "source": [
    "len(one_gramm)"
   ]
  },
  {
   "cell_type": "code",
   "execution_count": 8,
   "metadata": {},
   "outputs": [
    {
     "data": {
      "text/plain": [
       "286887"
      ]
     },
     "execution_count": 8,
     "metadata": {},
     "output_type": "execute_result"
    }
   ],
   "source": [
    "len(data)"
   ]
  },
  {
   "cell_type": "code",
   "execution_count": 9,
   "metadata": {},
   "outputs": [
    {
     "data": {
      "text/plain": [
       "[('.', 493249),\n",
       " (',', 460756),\n",
       " ('<s>', 286887),\n",
       " ('</s>', 286887),\n",
       " ('0', 210495),\n",
       " ('в', 176184),\n",
       " ('на', 163613),\n",
       " ('не', 140054),\n",
       " ('и', 90687),\n",
       " ('”', 81601)]"
      ]
     },
     "execution_count": 9,
     "metadata": {},
     "output_type": "execute_result"
    }
   ],
   "source": [
    "from collections import Counter\n",
    "\n",
    "Counter(one_gramm).most_common(10)"
   ]
  },
  {
   "cell_type": "code",
   "execution_count": 10,
   "metadata": {},
   "outputs": [
    {
     "data": {
      "text/plain": [
       "[('.$</s>', 158895),\n",
       " (',$що', 33706),\n",
       " (',$а', 29966),\n",
       " ('!$</s>', 26387),\n",
       " ('<s>$прошу', 19734),\n",
       " ('0$.', 19248),\n",
       " ('№$0', 18898),\n",
       " (',$0', 17925),\n",
       " (',$что', 17897),\n",
       " ('0$,', 17551)]"
      ]
     },
     "execution_count": 10,
     "metadata": {},
     "output_type": "execute_result"
    }
   ],
   "source": [
    "Counter(two_gramm).most_common(10)"
   ]
  },
  {
   "cell_type": "code",
   "execution_count": 11,
   "metadata": {},
   "outputs": [
    {
     "data": {
      "text/plain": [
       "[('<s>$добрый$день', 8762),\n",
       " ('0$/$0', 8041),\n",
       " ('<s>$доброго$дня', 7861),\n",
       " ('<s>$0$.', 7647),\n",
       " ('по$вул$.', 6925),\n",
       " (')$.$</s>', 5681),\n",
       " ('0$,$0', 4545),\n",
       " ('доброго$дня$!', 4519),\n",
       " ('добрый$день$!', 4288),\n",
       " ('0$.$</s>', 3954)]"
      ]
     },
     "execution_count": 11,
     "metadata": {},
     "output_type": "execute_result"
    }
   ],
   "source": [
    "Counter(three_gramm).most_common(10)"
   ]
  },
  {
   "cell_type": "code",
   "execution_count": 12,
   "metadata": {},
   "outputs": [],
   "source": [
    "start = dict()\n",
    "\n",
    "start_symbol = '<s>'\n",
    "end_symbol = '</s>'\n",
    "\n",
    "candidates = []\n",
    "frequencies = []\n",
    "\n",
    "for (key, freq) in two_gramm.items():\n",
    "    splitted = key.split('$')\n",
    "    if splitted[0] == start_symbol:\n",
    "        start[key] = freq\n",
    "        candidates.append(splitted[1])\n",
    "        frequencies.append(freq)"
   ]
  },
  {
   "cell_type": "code",
   "execution_count": 13,
   "metadata": {},
   "outputs": [],
   "source": [
    "import numpy as np"
   ]
  },
  {
   "cell_type": "code",
   "execution_count": 14,
   "metadata": {},
   "outputs": [
    {
     "name": "stdout",
     "output_type": "stream",
     "text": [
      "<s> грузовые машины , машины заезжают на аллею , детскую площадку , щоб запобігти залиттям . а я пропоную , у т . е . это даст\n"
     ]
    }
   ],
   "source": [
    "curr_word = np.random.choice(candidates, 1, p=np.array(frequencies)/np.sum(frequencies))[0]\n",
    "prev_word = start_symbol\n",
    "\n",
    "res = prev_word + ' ' + curr_word\n",
    "\n",
    "\n",
    "# for i in range(20):\n",
    "counter = 0\n",
    "while curr_word != end_symbol and counter < 25:\n",
    "    c = []\n",
    "    f = []\n",
    "    \n",
    "    next_w = dict()\n",
    "\n",
    "    for (key, freq) in three_gramm.items():\n",
    "        splitted = key.split('$')\n",
    "        if splitted[0] == prev_word and splitted[1] == curr_word:\n",
    "            next_w[key] = freq\n",
    "            c.append(splitted[2])\n",
    "            f.append(freq)\n",
    "    \n",
    "    if len(c) == 0:\n",
    "        break\n",
    "    \n",
    "    next_word = np.random.choice(c, 1, p=np.array(f)/np.sum(f))\n",
    "    \n",
    "    prev_word = curr_word\n",
    "    curr_word = next_word[0]\n",
    "    \n",
    "#     print(curr_word)\n",
    "    counter += 1\n",
    "    \n",
    "    res += (' ' + next_word[0])\n",
    "\n",
    "print(res)"
   ]
  },
  {
   "cell_type": "code",
   "execution_count": null,
   "metadata": {},
   "outputs": [],
   "source": []
  }
 ],
 "metadata": {
  "kernelspec": {
   "display_name": "Python 3",
   "language": "python",
   "name": "python3"
  },
  "language_info": {
   "codemirror_mode": {
    "name": "ipython",
    "version": 3
   },
   "file_extension": ".py",
   "mimetype": "text/x-python",
   "name": "python",
   "nbconvert_exporter": "python",
   "pygments_lexer": "ipython3",
   "version": "3.7.1"
  }
 },
 "nbformat": 4,
 "nbformat_minor": 2
}
